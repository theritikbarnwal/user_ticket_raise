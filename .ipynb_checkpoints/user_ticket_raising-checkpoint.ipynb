{
 "cells": [
  {
   "cell_type": "code",
   "execution_count": 2,
   "id": "1a93c16d-87cc-4c10-ad9d-21c627609428",
   "metadata": {},
   "outputs": [
    {
     "name": "stderr",
     "output_type": "stream",
     "text": [
      "[nltk_data] Downloading package punkt to\n",
      "[nltk_data]     C:\\Users\\Lenovo\\AppData\\Roaming\\nltk_data...\n",
      "[nltk_data]   Package punkt is already up-to-date!\n",
      "[nltk_data] Downloading package stopwords to\n",
      "[nltk_data]     C:\\Users\\Lenovo\\AppData\\Roaming\\nltk_data...\n",
      "[nltk_data]   Package stopwords is already up-to-date!\n"
     ]
    },
    {
     "name": "stdin",
     "output_type": "stream",
     "text": [
      "📝 Enter a customer support ticket (or type 'exit' to quit):  network connection\n"
     ]
    },
    {
     "name": "stdout",
     "output_type": "stream",
     "text": [
      "\n",
      "🔮 Predicted Category: Account Access\n",
      "📥 Ticket saved successfully!\n",
      "\n",
      "📜 Updated Ticket Log:\n",
      "1. 📨 Message: network connection | 🏷️ Category: Account Access\n",
      "--------------------------------------------------\n"
     ]
    },
    {
     "name": "stdin",
     "output_type": "stream",
     "text": [
      "📝 Enter a customer support ticket (or type 'exit' to quit):  transaction refund\n"
     ]
    },
    {
     "name": "stdout",
     "output_type": "stream",
     "text": [
      "\n",
      "🔮 Predicted Category: Billing Issue\n",
      "📥 Ticket saved successfully!\n",
      "\n",
      "📜 Updated Ticket Log:\n",
      "1. 📨 Message: network connection | 🏷️ Category: Account Access\n",
      "2. 📨 Message: transaction refund | 🏷️ Category: Billing Issue\n",
      "--------------------------------------------------\n"
     ]
    },
    {
     "name": "stdin",
     "output_type": "stream",
     "text": [
      "📝 Enter a customer support ticket (or type 'exit' to quit):  system lag\n"
     ]
    },
    {
     "name": "stdout",
     "output_type": "stream",
     "text": [
      "\n",
      "🔮 Predicted Category: Account Access\n",
      "📥 Ticket saved successfully!\n",
      "\n",
      "📜 Updated Ticket Log:\n",
      "1. 📨 Message: network connection | 🏷️ Category: Account Access\n",
      "2. 📨 Message: transaction refund | 🏷️ Category: Billing Issue\n",
      "3. 📨 Message: system lag | 🏷️ Category: Account Access\n",
      "--------------------------------------------------\n"
     ]
    },
    {
     "name": "stdin",
     "output_type": "stream",
     "text": [
      "📝 Enter a customer support ticket (or type 'exit' to quit):  exit\n"
     ]
    },
    {
     "name": "stdout",
     "output_type": "stream",
     "text": [
      "\n",
      "🗃️ Final Ticket Log:\n",
      "1. 📨 Message: network connection | 🏷️ Category: Account Access\n",
      "2. 📨 Message: transaction refund | 🏷️ Category: Billing Issue\n",
      "3. 📨 Message: system lag | 🏷️ Category: Account Access\n"
     ]
    }
   ],
   "source": [
    "# ✅ Step 1: Install/download required libraries (run once)\n",
    "import nltk\n",
    "nltk.download('punkt')\n",
    "nltk.download('stopwords')\n",
    "\n",
    "# ✅ Step 2: Import necessary libraries\n",
    "import pandas as pd\n",
    "import string\n",
    "from nltk.corpus import stopwords\n",
    "from nltk.tokenize import word_tokenize\n",
    "from sklearn.feature_extraction.text import TfidfVectorizer\n",
    "from sklearn.naive_bayes import MultinomialNB\n",
    "\n",
    "# ✅ Step 3: Load the CSV file (make sure the CSV is in the same directory or use full path)\n",
    "df = pd.read_csv(\"tickets_200.csv\")  # <-- Change path if needed\n",
    "\n",
    "# ✅ Step 4: Preprocessing function\n",
    "stop_words = set(stopwords.words('english'))\n",
    "\n",
    "def preprocess(text):\n",
    "    text = text.lower()\n",
    "    text = text.translate(str.maketrans('', '', string.punctuation))\n",
    "    tokens = word_tokenize(text)\n",
    "    tokens = [word for word in tokens if word not in stop_words]\n",
    "    return \" \".join(tokens)\n",
    "\n",
    "# ✅ Step 5: Clean text\n",
    "df['clean_text'] = df['text'].apply(preprocess)\n",
    "\n",
    "# ✅ Step 6: Vectorize text and train model\n",
    "vectorizer = TfidfVectorizer()\n",
    "X = vectorizer.fit_transform(df['clean_text'])\n",
    "y = df['category']\n",
    "\n",
    "model = MultinomialNB()\n",
    "model.fit(X, y)\n",
    "\n",
    "# ✅ Step 7: Live ticket input + prediction + logging\n",
    "ticket_log = []\n",
    "\n",
    "def predict_ticket_category(text):\n",
    "    cleaned = preprocess(text)\n",
    "    vectorized = vectorizer.transform([cleaned])\n",
    "    prediction = model.predict(vectorized)\n",
    "    return prediction[0]\n",
    "\n",
    "def raise_ticket():\n",
    "    while True:\n",
    "        user_input = input(\"📝 Enter a customer support ticket (or type 'exit' to quit): \")\n",
    "\n",
    "        if user_input.lower() == 'exit':\n",
    "            print(\"\\n🗃️ Final Ticket Log:\")\n",
    "            for i, (msg, cat) in enumerate(ticket_log, 1):\n",
    "                print(f\"{i}. 📨 Message: {msg} | 🏷️ Category: {cat}\")\n",
    "            break\n",
    "\n",
    "        predicted_category = predict_ticket_category(user_input)\n",
    "        ticket_log.append((user_input, predicted_category))\n",
    "\n",
    "        print(f\"\\n🔮 Predicted Category: {predicted_category}\")\n",
    "        print(\"📥 Ticket saved successfully!\")\n",
    "        print(\"\\n📜 Updated Ticket Log:\")\n",
    "        for i, (msg, cat) in enumerate(ticket_log, 1):\n",
    "            print(f\"{i}. 📨 Message: {msg} | 🏷️ Category: {cat}\")\n",
    "        print(\"-\" * 50)\n",
    "\n",
    "# ✅ Step 8: Run the ticket raising system\n",
    "raise_ticket()\n"
   ]
  },
  {
   "cell_type": "code",
   "execution_count": null,
   "id": "0c33553b-b815-4493-8edd-eaefffcaceb3",
   "metadata": {},
   "outputs": [],
   "source": []
  }
 ],
 "metadata": {
  "kernelspec": {
   "display_name": "Python 3 (ipykernel)",
   "language": "python",
   "name": "python3"
  },
  "language_info": {
   "codemirror_mode": {
    "name": "ipython",
    "version": 3
   },
   "file_extension": ".py",
   "mimetype": "text/x-python",
   "name": "python",
   "nbconvert_exporter": "python",
   "pygments_lexer": "ipython3",
   "version": "3.11.5"
  }
 },
 "nbformat": 4,
 "nbformat_minor": 5
}
